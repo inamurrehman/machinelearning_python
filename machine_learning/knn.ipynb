{
 "cells": [
  {
   "cell_type": "markdown",
   "metadata": {},
   "source": [
    "## Knn "
   ]
  },
  {
   "cell_type": "code",
   "execution_count": 118,
   "metadata": {},
   "outputs": [
    {
     "data": {
      "text/html": [
       "<div>\n",
       "<style scoped>\n",
       "    .dataframe tbody tr th:only-of-type {\n",
       "        vertical-align: middle;\n",
       "    }\n",
       "\n",
       "    .dataframe tbody tr th {\n",
       "        vertical-align: top;\n",
       "    }\n",
       "\n",
       "    .dataframe thead th {\n",
       "        text-align: right;\n",
       "    }\n",
       "</style>\n",
       "<table border=\"1\" class=\"dataframe\">\n",
       "  <thead>\n",
       "    <tr style=\"text-align: right;\">\n",
       "      <th></th>\n",
       "      <th>AHIPC</th>\n",
       "      <th>Aspine</th>\n",
       "      <th>AHIPR</th>\n",
       "      <th>AER</th>\n",
       "      <th>AWR</th>\n",
       "      <th>AHR</th>\n",
       "      <th>Gender</th>\n",
       "    </tr>\n",
       "  </thead>\n",
       "  <tbody>\n",
       "    <tr>\n",
       "      <th>0</th>\n",
       "      <td>1.074197</td>\n",
       "      <td>1.104815</td>\n",
       "      <td>1.058009</td>\n",
       "      <td>1.086524</td>\n",
       "      <td>0.983399</td>\n",
       "      <td>0.955172</td>\n",
       "      <td>1</td>\n",
       "    </tr>\n",
       "    <tr>\n",
       "      <th>1</th>\n",
       "      <td>0.941238</td>\n",
       "      <td>0.974563</td>\n",
       "      <td>0.928442</td>\n",
       "      <td>0.947999</td>\n",
       "      <td>0.828988</td>\n",
       "      <td>0.801955</td>\n",
       "      <td>1</td>\n",
       "    </tr>\n",
       "    <tr>\n",
       "      <th>2</th>\n",
       "      <td>1.115748</td>\n",
       "      <td>1.148227</td>\n",
       "      <td>1.095521</td>\n",
       "      <td>1.138274</td>\n",
       "      <td>1.045892</td>\n",
       "      <td>1.017264</td>\n",
       "      <td>1</td>\n",
       "    </tr>\n",
       "    <tr>\n",
       "      <th>3</th>\n",
       "      <td>0.941148</td>\n",
       "      <td>0.990126</td>\n",
       "      <td>0.920284</td>\n",
       "      <td>0.945852</td>\n",
       "      <td>0.842392</td>\n",
       "      <td>0.817208</td>\n",
       "      <td>1</td>\n",
       "    </tr>\n",
       "    <tr>\n",
       "      <th>4</th>\n",
       "      <td>0.943126</td>\n",
       "      <td>0.971330</td>\n",
       "      <td>0.920808</td>\n",
       "      <td>0.952584</td>\n",
       "      <td>0.855468</td>\n",
       "      <td>0.828205</td>\n",
       "      <td>1</td>\n",
       "    </tr>\n",
       "  </tbody>\n",
       "</table>\n",
       "</div>"
      ],
      "text/plain": [
       "      AHIPC    Aspine     AHIPR       AER       AWR       AHR  Gender\n",
       "0  1.074197  1.104815  1.058009  1.086524  0.983399  0.955172       1\n",
       "1  0.941238  0.974563  0.928442  0.947999  0.828988  0.801955       1\n",
       "2  1.115748  1.148227  1.095521  1.138274  1.045892  1.017264       1\n",
       "3  0.941148  0.990126  0.920284  0.945852  0.842392  0.817208       1\n",
       "4  0.943126  0.971330  0.920808  0.952584  0.855468  0.828205       1"
      ]
     },
     "execution_count": 118,
     "metadata": {},
     "output_type": "execute_result"
    }
   ],
   "source": [
    "import pandas as pd\n",
    "import seaborn as sns\n",
    "df= pd.read_csv('jointdata.csv')\n",
    "df.head()"
   ]
  },
  {
   "cell_type": "code",
   "execution_count": 119,
   "metadata": {},
   "outputs": [],
   "source": [
    "# selection of input and output\n",
    "X = df[['AHIPC', 'Aspine', 'AHIPR', 'AER', 'AWR', 'AHR']]\n",
    "y= df['Gender']"
   ]
  },
  {
   "cell_type": "code",
   "execution_count": 120,
   "metadata": {},
   "outputs": [
    {
     "data": {
      "text/plain": [
       "array([1, 1, 1, 1, 1, 1, 1, 1, 1, 1, 1, 1, 1, 1, 1, 1, 1, 1, 1, 1, 1, 1,\n",
       "       1, 1, 1, 1, 1, 1, 1, 0, 1, 1, 1, 0, 1, 0, 1, 1, 1, 1, 1, 1, 1, 1,\n",
       "       1, 1, 1, 1, 1, 1, 1, 1, 0, 1, 1, 1, 1, 0, 0, 0, 0, 0, 0, 0, 0, 0,\n",
       "       0, 0, 0, 0], dtype=int64)"
      ]
     },
     "execution_count": 120,
     "metadata": {},
     "output_type": "execute_result"
    }
   ],
   "source": [
    "# Model and prediction\n",
    "from sklearn.neighbors import KNeighborsClassifier\n",
    "model = KNeighborsClassifier(n_neighbors=9)\n",
    "\n",
    "# Train the model using the training set\n",
    "model.fit(X,y)\n",
    "\n",
    "# predict output\n",
    "predicted = model.predict(X)\n",
    "predicted\n",
    "\n"
   ]
  },
  {
   "cell_type": "code",
   "execution_count": 121,
   "metadata": {},
   "outputs": [
    {
     "name": "stdout",
     "output_type": "stream",
     "text": [
      "The accuracy score of gender prediction is 0.7857142857142857\n"
     ]
    }
   ],
   "source": [
    "# metrics evaluation\n",
    "## split data into test and train (80/20)\n",
    "from sklearn.model_selection import train_test_split\n",
    "from sklearn.metrics import accuracy_score\n",
    "\n",
    "X_train, X_test, y_train, y_test = train_test_split(X, y, test_size=0.2, random_state=1)\n",
    "\n",
    "# Create a model\n",
    "model= KNeighborsClassifier(n_neighbors=3)\n",
    "\n",
    "#fitting the model\n",
    "model.fit(X_train, y_train)\n",
    "\n",
    "predicted_values = model.predict(X_test)\n",
    "\n",
    "score= accuracy_score(y_test, predicted_values)\n",
    "print('The accuracy score of gender prediction is', score)\n"
   ]
  }
 ],
 "metadata": {
  "interpreter": {
   "hash": "40867cd959d76660a67591d6360a2e3cab85dbbff168341d593f5ecae905257b"
  },
  "kernelspec": {
   "display_name": "Python 3.9.7 ('base')",
   "language": "python",
   "name": "python3"
  },
  "language_info": {
   "codemirror_mode": {
    "name": "ipython",
    "version": 3
   },
   "file_extension": ".py",
   "mimetype": "text/x-python",
   "name": "python",
   "nbconvert_exporter": "python",
   "pygments_lexer": "ipython3",
   "version": "3.9.7"
  },
  "orig_nbformat": 4
 },
 "nbformat": 4,
 "nbformat_minor": 2
}
