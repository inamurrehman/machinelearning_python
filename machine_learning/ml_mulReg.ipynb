{
 "cells": [
  {
   "cell_type": "code",
   "execution_count": 1,
   "metadata": {},
   "outputs": [],
   "source": [
    "import pandas as pd\n",
    "import numpy as np\n",
    "from sklearn.linear_model import LinearRegression"
   ]
  },
  {
   "cell_type": "code",
   "execution_count": 9,
   "metadata": {},
   "outputs": [
    {
     "data": {
      "text/html": [
       "<div>\n",
       "<style scoped>\n",
       "    .dataframe tbody tr th:only-of-type {\n",
       "        vertical-align: middle;\n",
       "    }\n",
       "\n",
       "    .dataframe tbody tr th {\n",
       "        vertical-align: top;\n",
       "    }\n",
       "\n",
       "    .dataframe thead th {\n",
       "        text-align: right;\n",
       "    }\n",
       "</style>\n",
       "<table border=\"1\" class=\"dataframe\">\n",
       "  <thead>\n",
       "    <tr style=\"text-align: right;\">\n",
       "      <th></th>\n",
       "      <th>AHIPC</th>\n",
       "      <th>Aspine</th>\n",
       "      <th>AHIPR</th>\n",
       "      <th>AER</th>\n",
       "      <th>AWR</th>\n",
       "      <th>AHR</th>\n",
       "      <th>Gender</th>\n",
       "    </tr>\n",
       "  </thead>\n",
       "  <tbody>\n",
       "    <tr>\n",
       "      <th>66</th>\n",
       "      <td>1.403016</td>\n",
       "      <td>1.442096</td>\n",
       "      <td>1.387328</td>\n",
       "      <td>1.441953</td>\n",
       "      <td>1.377570</td>\n",
       "      <td>1.355955</td>\n",
       "      <td>0</td>\n",
       "    </tr>\n",
       "    <tr>\n",
       "      <th>67</th>\n",
       "      <td>1.220964</td>\n",
       "      <td>1.267922</td>\n",
       "      <td>1.200183</td>\n",
       "      <td>1.271744</td>\n",
       "      <td>1.164192</td>\n",
       "      <td>1.124753</td>\n",
       "      <td>0</td>\n",
       "    </tr>\n",
       "    <tr>\n",
       "      <th>68</th>\n",
       "      <td>1.213244</td>\n",
       "      <td>1.246114</td>\n",
       "      <td>1.204835</td>\n",
       "      <td>1.269826</td>\n",
       "      <td>1.175841</td>\n",
       "      <td>1.144740</td>\n",
       "      <td>0</td>\n",
       "    </tr>\n",
       "    <tr>\n",
       "      <th>69</th>\n",
       "      <td>1.318259</td>\n",
       "      <td>1.347090</td>\n",
       "      <td>1.300550</td>\n",
       "      <td>1.338499</td>\n",
       "      <td>1.252355</td>\n",
       "      <td>1.216684</td>\n",
       "      <td>0</td>\n",
       "    </tr>\n",
       "    <tr>\n",
       "      <th>70</th>\n",
       "      <td>1.179044</td>\n",
       "      <td>1.210080</td>\n",
       "      <td>1.167587</td>\n",
       "      <td>1.204799</td>\n",
       "      <td>1.129483</td>\n",
       "      <td>1.108585</td>\n",
       "      <td>0</td>\n",
       "    </tr>\n",
       "  </tbody>\n",
       "</table>\n",
       "</div>"
      ],
      "text/plain": [
       "       AHIPC    Aspine     AHIPR       AER       AWR       AHR  Gender\n",
       "66  1.403016  1.442096  1.387328  1.441953  1.377570  1.355955       0\n",
       "67  1.220964  1.267922  1.200183  1.271744  1.164192  1.124753       0\n",
       "68  1.213244  1.246114  1.204835  1.269826  1.175841  1.144740       0\n",
       "69  1.318259  1.347090  1.300550  1.338499  1.252355  1.216684       0\n",
       "70  1.179044  1.210080  1.167587  1.204799  1.129483  1.108585       0"
      ]
     },
     "execution_count": 9,
     "metadata": {},
     "output_type": "execute_result"
    }
   ],
   "source": [
    "df=pd.read_csv('jointdata.csv')\n",
    "df.tail()"
   ]
  },
  {
   "cell_type": "code",
   "execution_count": 5,
   "metadata": {},
   "outputs": [
    {
     "data": {
      "text/plain": [
       "LinearRegression()"
      ]
     },
     "execution_count": 5,
     "metadata": {},
     "output_type": "execute_result"
    }
   ],
   "source": [
    "x= df[['AHIPC',\t'Aspine',\t'AHIPR',\t'AER',\t'AWR',\t'AHR']]\n",
    "y= df['Gender']\n",
    "\n",
    "# creat and fit the model\n",
    "model= LinearRegression().fit(x,y)\n",
    "model"
   ]
  },
  {
   "cell_type": "code",
   "execution_count": 6,
   "metadata": {},
   "outputs": [
    {
     "data": {
      "text/plain": [
       "array([ 11.30663254, -12.92774507,  -1.89613196,  11.58386241,\n",
       "        -1.82614708,  -7.87286738])"
      ]
     },
     "execution_count": 6,
     "metadata": {},
     "output_type": "execute_result"
    }
   ],
   "source": [
    "model.coef_"
   ]
  },
  {
   "cell_type": "code",
   "execution_count": 7,
   "metadata": {},
   "outputs": [
    {
     "data": {
      "text/plain": [
       "1.6397938503557778"
      ]
     },
     "execution_count": 7,
     "metadata": {},
     "output_type": "execute_result"
    }
   ],
   "source": [
    "model.intercept_"
   ]
  },
  {
   "cell_type": "code",
   "execution_count": 10,
   "metadata": {},
   "outputs": [
    {
     "data": {
      "text/plain": [
       "array([-0.25794036])"
      ]
     },
     "execution_count": 10,
     "metadata": {},
     "output_type": "execute_result"
    }
   ],
   "source": [
    "model.predict([[1.403016,\t1.442096,\t1.387328,\t1.441953,\t1.377570,\t1.355955]])"
   ]
  },
  {
   "cell_type": "code",
   "execution_count": 25,
   "metadata": {},
   "outputs": [
    {
     "name": "stdout",
     "output_type": "stream",
     "text": [
      "Training data score = 0.5103981947011227\n",
      "Testing data score = 0.43683153797168484\n"
     ]
    }
   ],
   "source": [
    "from sklearn.model_selection import train_test_split\n",
    "x_train, x_test, y_train, y_test= train_test_split(x,y, test_size= 0.2, random_state=0)\n",
    "\n",
    "#import matplotlib.pyplot as plt\n",
    "#plt.scatter(x_train, y_train)\n",
    "#plt.plot(x_train, model.predict(x_train), color=\"Green\")\n",
    "#plt.xlabel(\"Result\")\n",
    "#plt.ylabel(\"Gender\")\n",
    "#plt.show()\n",
    "print(\"Training data score =\", model.score(x, y))\n",
    "print(\"Testing data score =\", model.score(x_test, y_test))\n"
   ]
  }
 ],
 "metadata": {
  "interpreter": {
   "hash": "40867cd959d76660a67591d6360a2e3cab85dbbff168341d593f5ecae905257b"
  },
  "kernelspec": {
   "display_name": "Python 3.9.7 ('base')",
   "language": "python",
   "name": "python3"
  },
  "language_info": {
   "codemirror_mode": {
    "name": "ipython",
    "version": 3
   },
   "file_extension": ".py",
   "mimetype": "text/x-python",
   "name": "python",
   "nbconvert_exporter": "python",
   "pygments_lexer": "ipython3",
   "version": "3.9.7"
  },
  "orig_nbformat": 4
 },
 "nbformat": 4,
 "nbformat_minor": 2
}
