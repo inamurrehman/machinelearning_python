{
 "cells": [
  {
   "cell_type": "code",
   "execution_count": 1,
   "metadata": {},
   "outputs": [
    {
     "data": {
      "text/html": [
       "<div>\n",
       "<style scoped>\n",
       "    .dataframe tbody tr th:only-of-type {\n",
       "        vertical-align: middle;\n",
       "    }\n",
       "\n",
       "    .dataframe tbody tr th {\n",
       "        vertical-align: top;\n",
       "    }\n",
       "\n",
       "    .dataframe thead th {\n",
       "        text-align: right;\n",
       "    }\n",
       "</style>\n",
       "<table border=\"1\" class=\"dataframe\">\n",
       "  <thead>\n",
       "    <tr style=\"text-align: right;\">\n",
       "      <th></th>\n",
       "      <th>AHIPC</th>\n",
       "      <th>Aspine</th>\n",
       "      <th>AHIPR</th>\n",
       "      <th>AER</th>\n",
       "      <th>AWR</th>\n",
       "      <th>AHR</th>\n",
       "      <th>Gender</th>\n",
       "    </tr>\n",
       "  </thead>\n",
       "  <tbody>\n",
       "    <tr>\n",
       "      <th>0</th>\n",
       "      <td>1.074197</td>\n",
       "      <td>1.104815</td>\n",
       "      <td>1.058009</td>\n",
       "      <td>1.086524</td>\n",
       "      <td>0.983399</td>\n",
       "      <td>0.955172</td>\n",
       "      <td>1</td>\n",
       "    </tr>\n",
       "    <tr>\n",
       "      <th>1</th>\n",
       "      <td>0.941238</td>\n",
       "      <td>0.974563</td>\n",
       "      <td>0.928442</td>\n",
       "      <td>0.947999</td>\n",
       "      <td>0.828988</td>\n",
       "      <td>0.801955</td>\n",
       "      <td>1</td>\n",
       "    </tr>\n",
       "    <tr>\n",
       "      <th>2</th>\n",
       "      <td>1.115748</td>\n",
       "      <td>1.148227</td>\n",
       "      <td>1.095521</td>\n",
       "      <td>1.138274</td>\n",
       "      <td>1.045892</td>\n",
       "      <td>1.017264</td>\n",
       "      <td>1</td>\n",
       "    </tr>\n",
       "    <tr>\n",
       "      <th>3</th>\n",
       "      <td>0.941148</td>\n",
       "      <td>0.990126</td>\n",
       "      <td>0.920284</td>\n",
       "      <td>0.945852</td>\n",
       "      <td>0.842392</td>\n",
       "      <td>0.817208</td>\n",
       "      <td>1</td>\n",
       "    </tr>\n",
       "    <tr>\n",
       "      <th>4</th>\n",
       "      <td>0.943126</td>\n",
       "      <td>0.971330</td>\n",
       "      <td>0.920808</td>\n",
       "      <td>0.952584</td>\n",
       "      <td>0.855468</td>\n",
       "      <td>0.828205</td>\n",
       "      <td>1</td>\n",
       "    </tr>\n",
       "  </tbody>\n",
       "</table>\n",
       "</div>"
      ],
      "text/plain": [
       "      AHIPC    Aspine     AHIPR       AER       AWR       AHR  Gender\n",
       "0  1.074197  1.104815  1.058009  1.086524  0.983399  0.955172       1\n",
       "1  0.941238  0.974563  0.928442  0.947999  0.828988  0.801955       1\n",
       "2  1.115748  1.148227  1.095521  1.138274  1.045892  1.017264       1\n",
       "3  0.941148  0.990126  0.920284  0.945852  0.842392  0.817208       1\n",
       "4  0.943126  0.971330  0.920808  0.952584  0.855468  0.828205       1"
      ]
     },
     "execution_count": 1,
     "metadata": {},
     "output_type": "execute_result"
    }
   ],
   "source": [
    "import pandas as pd\n",
    "df= pd.read_csv('jointdata.csv')\n",
    "df.head()"
   ]
  },
  {
   "cell_type": "code",
   "execution_count": 2,
   "metadata": {},
   "outputs": [
    {
     "data": {
      "text/html": [
       "<div>\n",
       "<style scoped>\n",
       "    .dataframe tbody tr th:only-of-type {\n",
       "        vertical-align: middle;\n",
       "    }\n",
       "\n",
       "    .dataframe tbody tr th {\n",
       "        vertical-align: top;\n",
       "    }\n",
       "\n",
       "    .dataframe thead th {\n",
       "        text-align: right;\n",
       "    }\n",
       "</style>\n",
       "<table border=\"1\" class=\"dataframe\">\n",
       "  <thead>\n",
       "    <tr style=\"text-align: right;\">\n",
       "      <th></th>\n",
       "      <th>AHIPC</th>\n",
       "      <th>Aspine</th>\n",
       "      <th>AHIPR</th>\n",
       "    </tr>\n",
       "  </thead>\n",
       "  <tbody>\n",
       "    <tr>\n",
       "      <th>0</th>\n",
       "      <td>1.074197</td>\n",
       "      <td>1.104815</td>\n",
       "      <td>1.058009</td>\n",
       "    </tr>\n",
       "    <tr>\n",
       "      <th>1</th>\n",
       "      <td>0.941238</td>\n",
       "      <td>0.974563</td>\n",
       "      <td>0.928442</td>\n",
       "    </tr>\n",
       "    <tr>\n",
       "      <th>2</th>\n",
       "      <td>1.115748</td>\n",
       "      <td>1.148227</td>\n",
       "      <td>1.095521</td>\n",
       "    </tr>\n",
       "    <tr>\n",
       "      <th>3</th>\n",
       "      <td>0.941148</td>\n",
       "      <td>0.990126</td>\n",
       "      <td>0.920284</td>\n",
       "    </tr>\n",
       "    <tr>\n",
       "      <th>4</th>\n",
       "      <td>0.943126</td>\n",
       "      <td>0.971330</td>\n",
       "      <td>0.920808</td>\n",
       "    </tr>\n",
       "  </tbody>\n",
       "</table>\n",
       "</div>"
      ],
      "text/plain": [
       "      AHIPC    Aspine     AHIPR\n",
       "0  1.074197  1.104815  1.058009\n",
       "1  0.941238  0.974563  0.928442\n",
       "2  1.115748  1.148227  1.095521\n",
       "3  0.941148  0.990126  0.920284\n",
       "4  0.943126  0.971330  0.920808"
      ]
     },
     "execution_count": 2,
     "metadata": {},
     "output_type": "execute_result"
    }
   ],
   "source": [
    "# Selection of input and out variable\n",
    "X=df[['AHIPC', 'Aspine', 'AHIPR' ]]\n",
    "y= df['Gender']\n",
    "X.head()"
   ]
  },
  {
   "cell_type": "code",
   "execution_count": 3,
   "metadata": {},
   "outputs": [
    {
     "data": {
      "text/plain": [
       "0    1\n",
       "1    1\n",
       "2    1\n",
       "3    1\n",
       "4    1\n",
       "Name: Gender, dtype: int64"
      ]
     },
     "execution_count": 3,
     "metadata": {},
     "output_type": "execute_result"
    }
   ],
   "source": [
    "y.head()"
   ]
  },
  {
   "cell_type": "code",
   "execution_count": 4,
   "metadata": {},
   "outputs": [],
   "source": [
    "# ML algorithm\n",
    "from sklearn.tree import DecisionTreeClassifier\n",
    "# creat and fit model\n",
    "model= DecisionTreeClassifier().fit(X,y)\n",
    "\n",
    "# Prediction\n",
    "#model.predict([[1.002, 0.988]])"
   ]
  },
  {
   "cell_type": "code",
   "execution_count": 5,
   "metadata": {},
   "outputs": [
    {
     "data": {
      "text/plain": [
       "array([0, 1, 0, 1, 1, 0, 1, 1, 0, 1, 1, 1, 1, 0], dtype=int64)"
      ]
     },
     "execution_count": 5,
     "metadata": {},
     "output_type": "execute_result"
    }
   ],
   "source": [
    "# Measuring accuracty\n",
    "\n",
    "## split data for train and test\n",
    "from sklearn.model_selection import train_test_split\n",
    "from sklearn.metrics import accuracy_score\n",
    "\n",
    "X_train, X_test, y_train, y_test= train_test_split(X, y, test_size= 0.2, random_state=1)\n",
    "\n",
    "# Create a model\n",
    "\n",
    "model= DecisionTreeClassifier().fit(X_train, y_train)\n",
    "\n",
    "predicted_values = model.predict(X_test)\n",
    "predicted_values\n",
    "\n",
    "\n"
   ]
  },
  {
   "cell_type": "code",
   "execution_count": 6,
   "metadata": {},
   "outputs": [
    {
     "data": {
      "text/plain": [
       "0.7142857142857143"
      ]
     },
     "execution_count": 6,
     "metadata": {},
     "output_type": "execute_result"
    }
   ],
   "source": [
    "# Checking score\n",
    "score = accuracy_score(y_test, predicted_values)\n",
    "score"
   ]
  },
  {
   "cell_type": "code",
   "execution_count": 7,
   "metadata": {},
   "outputs": [
    {
     "data": {
      "text/plain": [
       "['gender.joblib']"
      ]
     },
     "execution_count": 7,
     "metadata": {},
     "output_type": "execute_result"
    }
   ],
   "source": [
    "# how to train and save your model\n",
    "import pandas as pd\n",
    "from sklearn.tree import DecisionTreeClassifier\n",
    "import joblib\n",
    "\n",
    "model = DecisionTreeClassifier().fit(X,y)\n",
    "joblib.dump(model, \"gender.joblib\")\n",
    "\n",
    "\n"
   ]
  },
  {
   "cell_type": "code",
   "execution_count": 8,
   "metadata": {},
   "outputs": [
    {
     "data": {
      "text/plain": [
       "1.0"
      ]
     },
     "execution_count": 8,
     "metadata": {},
     "output_type": "execute_result"
    }
   ],
   "source": [
    "# how to import/run a stored or saved model on our data? Assignment\n",
    "\n",
    "# Load the model \n",
    "loaded_model = joblib.load('gender.joblib')\n",
    "result= loaded_model.score(X_test, y_test)\n",
    "result"
   ]
  },
  {
   "cell_type": "code",
   "execution_count": 9,
   "metadata": {},
   "outputs": [],
   "source": [
    "# Graph\n",
    "from sklearn import tree\n",
    "\n",
    "model= DecisionTreeClassifier().fit(X,y)\n",
    "# Graphic evaluation\n",
    "tree.export_graphviz(model, \n",
    "                    out_file=\"gender.dot\",\n",
    "                    feature_names= ['AHIPC', 'Aspine', 'AHIPR' ],\n",
    "                    #class_names= sorted(y.unique()),\n",
    "                    label = 'all',\n",
    "                    rounded = True,\n",
    "                    filled= True \n",
    "                    )\n",
    "\n"
   ]
  },
  {
   "cell_type": "markdown",
   "metadata": {},
   "source": [
    "# Decision Tree another Example "
   ]
  },
  {
   "cell_type": "code",
   "execution_count": 10,
   "metadata": {},
   "outputs": [
    {
     "data": {
      "text/html": [
       "<div>\n",
       "<style scoped>\n",
       "    .dataframe tbody tr th:only-of-type {\n",
       "        vertical-align: middle;\n",
       "    }\n",
       "\n",
       "    .dataframe tbody tr th {\n",
       "        vertical-align: top;\n",
       "    }\n",
       "\n",
       "    .dataframe thead th {\n",
       "        text-align: right;\n",
       "    }\n",
       "</style>\n",
       "<table border=\"1\" class=\"dataframe\">\n",
       "  <thead>\n",
       "    <tr style=\"text-align: right;\">\n",
       "      <th></th>\n",
       "      <th>AHIPC</th>\n",
       "      <th>Aspine</th>\n",
       "      <th>AHIPR</th>\n",
       "      <th>AER</th>\n",
       "      <th>AWR</th>\n",
       "      <th>AHR</th>\n",
       "      <th>Gender</th>\n",
       "    </tr>\n",
       "  </thead>\n",
       "  <tbody>\n",
       "    <tr>\n",
       "      <th>0</th>\n",
       "      <td>1.074197</td>\n",
       "      <td>1.104815</td>\n",
       "      <td>1.058009</td>\n",
       "      <td>1.086524</td>\n",
       "      <td>0.983399</td>\n",
       "      <td>0.955172</td>\n",
       "      <td>1</td>\n",
       "    </tr>\n",
       "    <tr>\n",
       "      <th>1</th>\n",
       "      <td>0.941238</td>\n",
       "      <td>0.974563</td>\n",
       "      <td>0.928442</td>\n",
       "      <td>0.947999</td>\n",
       "      <td>0.828988</td>\n",
       "      <td>0.801955</td>\n",
       "      <td>1</td>\n",
       "    </tr>\n",
       "    <tr>\n",
       "      <th>2</th>\n",
       "      <td>1.115748</td>\n",
       "      <td>1.148227</td>\n",
       "      <td>1.095521</td>\n",
       "      <td>1.138274</td>\n",
       "      <td>1.045892</td>\n",
       "      <td>1.017264</td>\n",
       "      <td>1</td>\n",
       "    </tr>\n",
       "    <tr>\n",
       "      <th>3</th>\n",
       "      <td>0.941148</td>\n",
       "      <td>0.990126</td>\n",
       "      <td>0.920284</td>\n",
       "      <td>0.945852</td>\n",
       "      <td>0.842392</td>\n",
       "      <td>0.817208</td>\n",
       "      <td>1</td>\n",
       "    </tr>\n",
       "    <tr>\n",
       "      <th>4</th>\n",
       "      <td>0.943126</td>\n",
       "      <td>0.971330</td>\n",
       "      <td>0.920808</td>\n",
       "      <td>0.952584</td>\n",
       "      <td>0.855468</td>\n",
       "      <td>0.828205</td>\n",
       "      <td>1</td>\n",
       "    </tr>\n",
       "  </tbody>\n",
       "</table>\n",
       "</div>"
      ],
      "text/plain": [
       "      AHIPC    Aspine     AHIPR       AER       AWR       AHR  Gender\n",
       "0  1.074197  1.104815  1.058009  1.086524  0.983399  0.955172       1\n",
       "1  0.941238  0.974563  0.928442  0.947999  0.828988  0.801955       1\n",
       "2  1.115748  1.148227  1.095521  1.138274  1.045892  1.017264       1\n",
       "3  0.941148  0.990126  0.920284  0.945852  0.842392  0.817208       1\n",
       "4  0.943126  0.971330  0.920808  0.952584  0.855468  0.828205       1"
      ]
     },
     "execution_count": 10,
     "metadata": {},
     "output_type": "execute_result"
    }
   ],
   "source": [
    "import pandas as pd\n",
    "import numpy as np\n",
    "import seaborn as sns\n",
    "df= pd.read_csv('jointdata.csv')\n",
    "df.head()"
   ]
  },
  {
   "cell_type": "code",
   "execution_count": 11,
   "metadata": {},
   "outputs": [
    {
     "data": {
      "text/plain": [
       "0     1\n",
       "1     1\n",
       "2     1\n",
       "3     1\n",
       "4     1\n",
       "     ..\n",
       "65    0\n",
       "66    0\n",
       "67    0\n",
       "68    0\n",
       "69    0\n",
       "Name: Gender, Length: 70, dtype: int64"
      ]
     },
     "execution_count": 11,
     "metadata": {},
     "output_type": "execute_result"
    }
   ],
   "source": [
    "import matplotlib.pyplot as plt\n",
    "from sklearn.tree import DecisionTreeClassifier\n",
    "X= df.iloc[ : , :-1] # take all the rows [ : ] and :-1 take all columns except last one (-1)\n",
    "y= df.iloc[ : , -1]   # take all the rows [ : ] and take the end colums only\n",
    "y\n",
    "\n",
    "\n"
   ]
  },
  {
   "cell_type": "code",
   "execution_count": 12,
   "metadata": {},
   "outputs": [
    {
     "data": {
      "image/png": "[encoded data removed]",
      "text/plain": [
       "<Figure size 432x288 with 1 Axes>"
      ]
     },
     "metadata": {
      "needs_background": "light"
     },
     "output_type": "display_data"
    },
    {
     "data": {
      "text/plain": [
       "<Figure size 432x288 with 0 Axes>"
      ]
     },
     "metadata": {},
     "output_type": "display_data"
    }
   ],
   "source": [
    "from sklearn.tree import DecisionTreeClassifier\n",
    "from sklearn.tree import plot_tree\n",
    "\n",
    "model = DecisionTreeClassifier().fit(X,y)\n",
    "plot_tree(model, filled=True)\n",
    "plt.title('Decision tree of trained model for joints data')\n",
    "plt.show()\n",
    "plt.savefig('plot.tiff', dpi=300, bbox_inches = 'tight')\n",
    "#plt.savefig('plot.png', dpi=300, bbox_inches = 'tight')                                                         "
   ]
  },
  {
   "cell_type": "code",
   "execution_count": 13,
   "metadata": {},
   "outputs": [
    {
     "name": "stdout",
     "output_type": "stream",
     "text": [
      "plot.png\n"
     ]
    }
   ],
   "source": [
    "print('plot.png')"
   ]
  },
  {
   "cell_type": "code",
   "execution_count": 14,
   "metadata": {},
   "outputs": [],
   "source": []
  }
 ],
 "metadata": {
  "interpreter": {
   "hash": "27f4651a69cc596613ff15020c30daccb765eb95dc5015a83c6bc95476bfaff1"
  },
  "kernelspec": {
   "display_name": "Python 3.10.2 64-bit",
   "language": "python",
   "name": "python3"
  },
  "language_info": {
   "codemirror_mode": {
    "name": "ipython",
    "version": 3
   },
   "file_extension": ".py",
   "mimetype": "text/x-python",
   "name": "python",
   "nbconvert_exporter": "python",
   "pygments_lexer": "ipython3",
   "version": "3.9.7"
  },
  "orig_nbformat": 4
 },
 "nbformat": 4,
 "nbformat_minor": 2
}
